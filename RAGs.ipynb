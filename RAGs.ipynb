{
 "cells": [
  {
   "cell_type": "markdown",
   "id": "77632a9b",
   "metadata": {},
   "source": [
    "### Setup"
   ]
  },
  {
   "cell_type": "code",
   "execution_count": 7,
   "id": "e266f02d",
   "metadata": {},
   "outputs": [],
   "source": [
    "import os\n",
    "from dotenv import load_dotenv\n",
    "load_dotenv()\n",
    "\n",
    "os.environ[\"GROQ_API_KEY\"] = os.getenv(\"GROQ_API_KEY\")\n",
    "os.environ[\"HF_TOKEN\"] = os.getenv(\"HF_TOKEN\")"
   ]
  },
  {
   "cell_type": "markdown",
   "id": "819bf039",
   "metadata": {},
   "source": [
    "### 1. Load Your Data"
   ]
  },
  {
   "cell_type": "code",
   "execution_count": 12,
   "id": "36cbd0e8",
   "metadata": {},
   "outputs": [
    {
     "name": "stdout",
     "output_type": "stream",
     "text": [
      "[Document(metadata={'producer': 'Microsoft® Word 2024', 'creator': 'Microsoft® Word 2024', 'creationdate': '2025-07-24T20:41:26+05:30', 'author': 'Soham', 'moddate': '2025-07-24T20:41:26+05:30', 'source': 'D:/Soham_Mistry.pdf', 'total_pages': 1, 'page': 0, 'page_label': '1'}, page_content='SOHAM MISTRY \\nPune, Maharashtra   \\nP: +91 89562 85029  \\nsdmistry1001@gmail.com  \\nGitHub - SohamMistry01   \\nLinkedIn - soham-mistry \\n \\n \\nPROFILE  \\n \\n \\nEngineering mind with a machine learning core — \\nturning ideas into AI-powered realities. Experienced \\nin developing robust ML models, optimizing \\nperformance, and integrating them into real-world \\napplications across domains like healthcare, NLP, and \\nautomation. Skilled in leveraging cutting-edge AI \\nframeworks like LangChain and LangGraph to \\narchitect intelligent, multi-agent systems. Open to \\ndynamic opportunities in AI, ML, or data-driven \\nengineering roles to create meaningful impact. \\n \\nEDUCATION  \\n \\n \\nAISSMS Institute of Information Technology Pune \\nBTech Computer Engineering 2022 - 2026 \\nSGPA: 8.86 \\n \\n \\nPROJECTS  \\n \\n \\nPlan My Trip – AI Travel Planner  \\n● Skills: LLMs, Agentic AI, LangGraph, LangChain, \\nPrompt Engineering, FastAPI. \\n● Architected multi-agent AI system using \\nLangGraph, integrating 3+ external APIs (Google \\nPlaces, OpenWeatherMap, ExchangeRate). \\n● Implemented intelligent workflow orchestration \\nreducing trip planning time by 60%. \\n \\nAgentic Chatbot \\n• Skills: Agentic AI, LangGraph, LangChain, LLMs, \\nAI Agents, Prompt Engineering. \\n• Developed multi-agent chatbot system with web \\nsearch capabilities and NLP-powered news \\nsummarization, reducing information research \\ntime by 70% through intelligent content \\naggregation. \\n \\nHealth Insurance Claim Prediction \\n• Skills: Feature Engineering, Machine Learning, \\nGenerative AI, Data Visualization. \\n• Developed an end-to-end ML application \\nachieving 91% accuracy in predicting insurance \\ncosts with Gemini medical chatbot, reducing \\nmanual assessment time by 40%. \\n \\n \\n \\nSKILLS & CERTIFICATIONS  \\n \\n \\n• Technical Skills:  \\nPython, Data Science, Machine Learning, Deep \\nLearning, Natural Language Processing, \\nGenerative AI, LLMs, RAG, AI Agents, Prompt \\nEngineering, Agentic AI, Data Analysis, Data \\nVisualization, SQL, Power BI, Tableau. \\n• Frameworks:  \\nScikit-learn, XGBoost, Tensorflow, LangChain, \\nLangGraph, Flask, Django, FastAPI, Asyncio, \\nPydantic. \\n• Non-Technical Skills:  \\nLeadership, Team Management, Event Planning, \\nEvent Management. \\n• Languages:  \\nEnglish, Hindi, Marathi, Sanskrit. \\n• Certifications:  \\nColumbia University: Prompt Engineering & \\nProgramming with OpenAI; \\nUdemy: Complete Data Science, Machine \\nLearning, Deep Learning & NLP Course; \\nUdemy: Agentic AI with LangChain and \\nLangGraph. \\n \\n \\nEXPERIENCE  \\n \\n \\nElite Softwares  Pune \\nPython Developer Intern Dec 2024 – Feb 2025 \\n● Skills: Python, Django, HTML, CSS, Bootstrap \\n● Developed responsive personal portfolio website \\nusing Django framework with Bootstrap \\nintegration. \\n \\nIndian Institute of Tropical Meteorology  Pune                                                                                                                \\nResearch Intern Nov 2024 – Dec 2024 \\n● Skills: Py-ART, PySTEPS, Python, Data Analysis, \\nRadar Meteorology. \\n● Implemented Py-ART and PySTEPS libraries to \\nprocess and analyze doppler weather radar data. \\n● Contributed to scientific research on tropical \\nweather systems using real-world radar datasets. \\n \\n \\nACTIVITIES  \\n \\n \\nComputer Engineering Student Association \\n(CESA), AISSMS IOIT Pune \\nTechnical Secretary Sep 2024 – Present \\n \\nCodeHub: Coding Club, AISSMS IOIT Pune \\nClub Lead       Oct 2024 – Present')]\n"
     ]
    }
   ],
   "source": [
    "from langchain_community.document_loaders import PyPDFLoader\n",
    "loader = PyPDFLoader(\"D:/Soham_Mistry.pdf\")\n",
    "docs = loader.load()\n",
    "print(docs)"
   ]
  },
  {
   "cell_type": "markdown",
   "id": "18a35532",
   "metadata": {},
   "source": [
    "### 2. Split the Document into Chunks"
   ]
  },
  {
   "cell_type": "code",
   "execution_count": 13,
   "id": "ac0bc4be",
   "metadata": {},
   "outputs": [
    {
     "name": "stdout",
     "output_type": "stream",
     "text": [
      "Split into 4 chunks.\n"
     ]
    }
   ],
   "source": [
    "from langchain.text_splitter import RecursiveCharacterTextSplitter\n",
    "text_splitter = RecursiveCharacterTextSplitter(\n",
    "    chunk_size=1000,\n",
    "    chunk_overlap=200\n",
    ")\n",
    "splits = text_splitter.split_documents(docs)\n",
    "print(f\"Split into {len(splits)} chunks.\")"
   ]
  },
  {
   "cell_type": "markdown",
   "id": "c209fa9a",
   "metadata": {},
   "source": [
    "### 3. Create Vector Embeddings"
   ]
  },
  {
   "cell_type": "code",
   "execution_count": 14,
   "id": "03e0fafb",
   "metadata": {},
   "outputs": [],
   "source": [
    "from langchain_huggingface import HuggingFaceEmbeddings\n",
    "embeddings = HuggingFaceEmbeddings(model_name=\"all-MiniLM-L6-v2\")"
   ]
  },
  {
   "cell_type": "markdown",
   "id": "f60053a7",
   "metadata": {},
   "source": [
    "### 4. Store Embeddings in a Vector Store"
   ]
  },
  {
   "cell_type": "code",
   "execution_count": 15,
   "id": "439f6eb1",
   "metadata": {},
   "outputs": [],
   "source": [
    "from langchain_community.vectorstores import FAISS\n",
    "vectorstore = FAISS.from_documents(documents=splits, embedding=embeddings)"
   ]
  },
  {
   "cell_type": "markdown",
   "id": "bdc856a0",
   "metadata": {},
   "source": [
    "### 5. Set Up the Retriever"
   ]
  },
  {
   "cell_type": "code",
   "execution_count": 16,
   "id": "73604ad4",
   "metadata": {},
   "outputs": [],
   "source": [
    "retriever = vectorstore.as_retriever()"
   ]
  },
  {
   "cell_type": "markdown",
   "id": "7ca24a2d",
   "metadata": {},
   "source": [
    "### 6. Create the RAG Chain"
   ]
  },
  {
   "cell_type": "code",
   "execution_count": 17,
   "id": "2e24536c",
   "metadata": {},
   "outputs": [],
   "source": [
    "from langchain_core.prompts import ChatPromptTemplate\n",
    "from langchain_core.runnables import RunnablePassthrough\n",
    "from langchain_core.output_parsers import StrOutputParser\n",
    "from langchain_groq import ChatGroq\n",
    "\n",
    "template = \"\"\" \n",
    "    Answer the question based only on the following context:\n",
    "    {context}\n",
    "    Question: {question}\n",
    "\"\"\"\n",
    "\n",
    "prompt = ChatPromptTemplate.from_template(template)\n",
    "\n",
    "llm = ChatGroq(model_name=\"llama-3.1-8b-instant\", temperature=0)\n",
    "\n",
    "rag_chain = (\n",
    "    {\"context\": retriever, \"question\": RunnablePassthrough()}\n",
    "    | prompt\n",
    "    | llm\n",
    "    | StrOutputParser()\n",
    ")"
   ]
  },
  {
   "cell_type": "markdown",
   "id": "7b52737d",
   "metadata": {},
   "source": [
    "### 7. Ask a Question"
   ]
  },
  {
   "cell_type": "code",
   "execution_count": 18,
   "id": "9f34dd0e",
   "metadata": {},
   "outputs": [
    {
     "name": "stdout",
     "output_type": "stream",
     "text": [
      "The main topic of the document appears to be the resume or CV of a person named Soham Mistry, highlighting his educational background, technical skills, certifications, work experience, and projects related to Artificial Intelligence (AI), Machine Learning (ML), and Data Science.\n"
     ]
    }
   ],
   "source": [
    "question = \"What is the main topic of the document?\"\n",
    "response = rag_chain.invoke(question)\n",
    "print(response)"
   ]
  },
  {
   "cell_type": "code",
   "execution_count": 19,
   "id": "7e19770f",
   "metadata": {},
   "outputs": [
    {
     "name": "stdout",
     "output_type": "stream",
     "text": [
      "Based on the provided context, the person, Soham Mistry, has the following skills:\n",
      "\n",
      "**Technical Skills:**\n",
      "\n",
      "1. Python\n",
      "2. Data Science\n",
      "3. Machine Learning\n",
      "4. Deep Learning\n",
      "5. Natural Language Processing (NLP)\n",
      "6. Generative AI\n",
      "7. Large Language Models (LLMs)\n",
      "8. Reinforcement Agents (RAG)\n",
      "9. AI Agents\n",
      "10. Prompt Engineering\n",
      "11. Agentic AI\n",
      "12. Data Analysis\n",
      "13. Data Visualization\n",
      "14. SQL\n",
      "15. Power BI\n",
      "16. Tableau\n",
      "\n",
      "**Frameworks:**\n",
      "\n",
      "1. Scikit-learn\n",
      "2. XGBoost\n",
      "3. Tensorflow\n",
      "4. LangChain\n",
      "5. LangGraph\n",
      "6. Flask\n",
      "7. Django\n",
      "8. FastAPI\n",
      "9. Asyncio\n",
      "10. Pydantic\n",
      "\n",
      "**Non-Technical Skills:**\n",
      "\n",
      "1. Leadership\n",
      "2. Team Management\n",
      "3. Event Planning\n",
      "4. Event Management\n",
      "\n",
      "**Languages:**\n",
      "\n",
      "1. English\n",
      "2. Hindi\n",
      "3. Marathi\n",
      "4. Sanskrit\n",
      "\n",
      "Note that this list may not be exhaustive, as the provided context only includes a few documents that mention Soham's skills.\n"
     ]
    }
   ],
   "source": [
    "question2 = \"What skills does this person have?\"\n",
    "response2 = rag_chain.invoke(question2)\n",
    "print(response2)"
   ]
  },
  {
   "cell_type": "code",
   "execution_count": null,
   "id": "8ddcafcb",
   "metadata": {},
   "outputs": [],
   "source": []
  }
 ],
 "metadata": {
  "kernelspec": {
   "display_name": "Python 3",
   "language": "python",
   "name": "python3"
  },
  "language_info": {
   "codemirror_mode": {
    "name": "ipython",
    "version": 3
   },
   "file_extension": ".py",
   "mimetype": "text/x-python",
   "name": "python",
   "nbconvert_exporter": "python",
   "pygments_lexer": "ipython3",
   "version": "3.12.0"
  }
 },
 "nbformat": 4,
 "nbformat_minor": 5
}
